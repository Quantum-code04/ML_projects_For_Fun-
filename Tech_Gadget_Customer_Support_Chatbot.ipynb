{
 "cells": [
  {
   "cell_type": "code",
   "execution_count": 12,
   "id": "4f3f0ecf-170c-4cbd-9145-f29d5ac3a542",
   "metadata": {},
   "outputs": [],
   "source": [
    "# Simple Customer Support Chatbot\n",
    "\n",
    "responses = {\n",
    "      \"hi\": \"Hello! Welcome to TechGadget Support. How can I assist you today?\",\n",
    "      \"do you have smartwatches\": \"Yes, we have a variety of smartwatches. You can check them out on our products page.\",\n",
    "      \"shipping time\": \"Shipping usually takes 3-5 business days.\",\n",
    "      \"shipping methods\": \"We offer standard, expedited, and overnight shipping.\",\n",
    "      \"return policy\": \"You can return products within 30 days of receipt for a full refund.\",\n",
    "      \"how to return\": \"To return a product, please visit our returns page for a step-by-step guide.\",\n",
    "      \"won’t turn on\": \"Make sure your gadget is charged. If it still won’t turn on, you can visit our troubleshooting page.\",\n",
    "      \"reset device\": \"To reset your device, hold down the power button for 10 seconds. If that doesn't work, please check the manual for a factory reset.\",\n",
    "      \"bye\": \"Thank you for visiting TechGadget. If you have more questions, feel free to ask. Goodbye!\"\n",
    "}"
   ]
  },
  {
   "cell_type": "code",
   "execution_count": 26,
   "id": "4e515816-07e6-4f74-bb1f-91237ab25e75",
   "metadata": {},
   "outputs": [],
   "source": [
    "def get_bot_response(user_input):\n",
    "      user_input = user_input.lower()\n",
    "\n",
    "      for keyword, response in responses.items():\n",
    "          if keyword in user_input: \n",
    "              return response\n",
    "\n",
    "      return \"I'm not sure how to respond to that. Can you try asking something else?\"\n",
    "\n"
   ]
  },
  {
   "cell_type": "code",
   "execution_count": 34,
   "id": "f3a416c2-07c2-42e4-9011-76cbae9f9ab7",
   "metadata": {},
   "outputs": [
    {
     "name": "stdin",
     "output_type": "stream",
     "text": [
      "You:  bye\n"
     ]
    },
    {
     "name": "stdout",
     "output_type": "stream",
     "text": [
      "Bot: Thank you for visiting TechGadget. If you have more questions, feel free to ask. Goodbye!\n"
     ]
    },
    {
     "name": "stdin",
     "output_type": "stream",
     "text": [
      "You:  bye\n"
     ]
    },
    {
     "name": "stdout",
     "output_type": "stream",
     "text": [
      "Bot: Thank you for visiting TechGadget. If you have more questions, feel free to ask. Goodbye!\n"
     ]
    },
    {
     "name": "stdin",
     "output_type": "stream",
     "text": [
      "You:  x\n"
     ]
    },
    {
     "name": "stdout",
     "output_type": "stream",
     "text": [
      "Bot: Goodbye! If you have any more questions, we're here to help.\n"
     ]
    }
   ],
   "source": [
    "while True:\n",
    "      user_input = input(\"You: \")\n",
    "      if user_input.lower() in [\"quit\", \"exit\", \"x\"]:\n",
    "          print(\"Bot: Goodbye! If you have any more questions, we're here to help.\")\n",
    "          break\n",
    "\n",
    "      response = get_bot_response(user_input)\n",
    "      print(f\"Bot: {response}\")"
   ]
  },
  {
   "cell_type": "code",
   "execution_count": null,
   "id": "7bc14cdf-9465-4cf7-942b-ee8737928055",
   "metadata": {},
   "outputs": [],
   "source": []
  }
 ],
 "metadata": {
  "kernelspec": {
   "display_name": "Python 3 (ipykernel)",
   "language": "python",
   "name": "python3"
  },
  "language_info": {
   "codemirror_mode": {
    "name": "ipython",
    "version": 3
   },
   "file_extension": ".py",
   "mimetype": "text/x-python",
   "name": "python",
   "nbconvert_exporter": "python",
   "pygments_lexer": "ipython3",
   "version": "3.12.7"
  }
 },
 "nbformat": 4,
 "nbformat_minor": 5
}
