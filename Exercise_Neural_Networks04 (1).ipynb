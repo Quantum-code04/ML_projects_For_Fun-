{
 "cells": [
  {
   "cell_type": "markdown",
   "id": "1a04978a-f129-4d99-97a8-dbeb0d10ba05",
   "metadata": {},
   "source": [
    "## For this exercise, you will create a simple neural network example. We'll use a synthetic dataset to predict whether a customer will make a purchase based on two features:\n",
    "\n",
    "Website visit duration\n",
    "Number of pages visited.\n",
    "This is a binary classification problem, and we'll use a small neural network for quick execution. Copy and paste the code into the Jupyter Notebook below. Place each step of code into it's own cell, then execute each cell in order.\n",
    "\n",
    "# Step 1: Generate Synthetic Data"
   ]
  },
  {
   "cell_type": "code",
   "execution_count": 46,
   "id": "6e056e74-8da3-46ce-92d9-23e0b6e055f0",
   "metadata": {},
   "outputs": [
    {
     "name": "stdout",
     "output_type": "stream",
     "text": [
      "[[0.5488135  0.71518937]\n",
      " [0.60276338 0.54488318]\n",
      " [0.4236548  0.64589411]\n",
      " [0.43758721 0.891773  ]\n",
      " [0.96366276 0.38344152]\n",
      " [0.79172504 0.52889492]\n",
      " [0.56804456 0.92559664]\n",
      " [0.07103606 0.0871293 ]\n",
      " [0.0202184  0.83261985]\n",
      " [0.77815675 0.87001215]\n",
      " [0.97861834 0.79915856]\n",
      " [0.46147936 0.78052918]\n",
      " [0.11827443 0.63992102]\n",
      " [0.14335329 0.94466892]\n",
      " [0.52184832 0.41466194]\n",
      " [0.26455561 0.77423369]\n",
      " [0.45615033 0.56843395]\n",
      " [0.0187898  0.6176355 ]\n",
      " [0.61209572 0.616934  ]\n",
      " [0.94374808 0.6818203 ]\n",
      " [0.3595079  0.43703195]\n",
      " [0.6976312  0.06022547]\n",
      " [0.66676672 0.67063787]\n",
      " [0.21038256 0.1289263 ]\n",
      " [0.31542835 0.36371077]\n",
      " [0.57019677 0.43860151]\n",
      " [0.98837384 0.10204481]\n",
      " [0.20887676 0.16130952]\n",
      " [0.65310833 0.2532916 ]\n",
      " [0.46631077 0.24442559]\n",
      " [0.15896958 0.11037514]\n",
      " [0.65632959 0.13818295]\n",
      " [0.19658236 0.36872517]\n",
      " [0.82099323 0.09710128]\n",
      " [0.83794491 0.09609841]\n",
      " [0.97645947 0.4686512 ]\n",
      " [0.97676109 0.60484552]\n",
      " [0.73926358 0.03918779]\n",
      " [0.28280696 0.12019656]\n",
      " [0.2961402  0.11872772]\n",
      " [0.31798318 0.41426299]\n",
      " [0.0641475  0.69247212]\n",
      " [0.56660145 0.26538949]\n",
      " [0.52324805 0.09394051]\n",
      " [0.5759465  0.9292962 ]\n",
      " [0.31856895 0.66741038]\n",
      " [0.13179786 0.7163272 ]\n",
      " [0.28940609 0.18319136]\n",
      " [0.58651293 0.02010755]\n",
      " [0.82894003 0.00469548]\n",
      " [0.67781654 0.27000797]\n",
      " [0.73519402 0.96218855]\n",
      " [0.24875314 0.57615733]\n",
      " [0.59204193 0.57225191]\n",
      " [0.22308163 0.95274901]\n",
      " [0.44712538 0.84640867]\n",
      " [0.69947928 0.29743695]\n",
      " [0.81379782 0.39650574]\n",
      " [0.8811032  0.58127287]\n",
      " [0.88173536 0.69253159]\n",
      " [0.72525428 0.50132438]\n",
      " [0.95608363 0.6439902 ]\n",
      " [0.42385505 0.60639321]\n",
      " [0.0191932  0.30157482]\n",
      " [0.66017354 0.29007761]\n",
      " [0.61801543 0.4287687 ]\n",
      " [0.13547406 0.29828233]\n",
      " [0.56996491 0.59087276]\n",
      " [0.57432525 0.65320082]\n",
      " [0.65210327 0.43141844]\n",
      " [0.8965466  0.36756187]\n",
      " [0.43586493 0.89192336]\n",
      " [0.80619399 0.70388858]\n",
      " [0.10022689 0.91948261]\n",
      " [0.7142413  0.99884701]\n",
      " [0.1494483  0.86812606]\n",
      " [0.16249293 0.61555956]\n",
      " [0.12381998 0.84800823]\n",
      " [0.80731896 0.56910074]\n",
      " [0.4071833  0.069167  ]\n",
      " [0.69742877 0.45354268]\n",
      " [0.7220556  0.86638233]\n",
      " [0.97552151 0.85580334]\n",
      " [0.01171408 0.35997806]\n",
      " [0.72999056 0.17162968]\n",
      " [0.52103661 0.05433799]\n",
      " [0.19999652 0.01852179]\n",
      " [0.7936977  0.22392469]\n",
      " [0.34535168 0.92808129]\n",
      " [0.7044144  0.03183893]\n",
      " [0.16469416 0.6214784 ]\n",
      " [0.57722859 0.23789282]\n",
      " [0.934214   0.61396596]\n",
      " [0.5356328  0.58990998]\n",
      " [0.73012203 0.311945  ]\n",
      " [0.39822106 0.20984375]\n",
      " [0.18619301 0.94437239]\n",
      " [0.7395508  0.49045881]\n",
      " [0.22741463 0.25435648]\n",
      " [0.05802916 0.43441663]\n",
      " [0.31179588 0.69634349]\n",
      " [0.37775184 0.17960368]\n",
      " [0.02467873 0.06724963]\n",
      " [0.67939277 0.45369684]\n",
      " [0.53657921 0.89667129]\n",
      " [0.99033895 0.21689698]\n",
      " [0.6630782  0.26332238]\n",
      " [0.020651   0.75837865]\n",
      " [0.32001715 0.38346389]\n",
      " [0.58831711 0.83104846]\n",
      " [0.62898184 0.87265066]\n",
      " [0.27354203 0.79804683]\n",
      " [0.18563594 0.95279166]\n",
      " [0.68748828 0.21550768]\n",
      " [0.94737059 0.73085581]\n",
      " [0.25394164 0.21331198]\n",
      " [0.51820071 0.02566272]\n",
      " [0.20747008 0.42468547]\n",
      " [0.37416998 0.46357542]\n",
      " [0.27762871 0.58678435]\n",
      " [0.86385561 0.11753186]\n",
      " [0.51737911 0.13206811]\n",
      " [0.71685968 0.3960597 ]\n",
      " [0.56542131 0.18327984]\n",
      " [0.14484776 0.48805628]\n",
      " [0.35561274 0.94043195]\n",
      " [0.76532525 0.74866362]\n",
      " [0.90371974 0.08342244]\n",
      " [0.55219247 0.58447607]\n",
      " [0.96193638 0.29214753]\n",
      " [0.24082878 0.10029394]\n",
      " [0.01642963 0.92952932]\n",
      " [0.66991655 0.78515291]\n",
      " [0.28173011 0.58641017]\n",
      " [0.06395527 0.4856276 ]\n",
      " [0.97749514 0.87650525]\n",
      " [0.33815895 0.96157015]\n",
      " [0.23170163 0.94931882]\n",
      " [0.9413777  0.79920259]\n",
      " [0.63044794 0.87428797]\n",
      " [0.29302028 0.84894356]\n",
      " [0.61787669 0.01323686]\n",
      " [0.34723352 0.14814086]\n",
      " [0.98182939 0.47837031]\n",
      " [0.49739137 0.63947252]\n",
      " [0.36858461 0.13690027]\n",
      " [0.82211773 0.18984791]\n",
      " [0.51131898 0.22431703]\n",
      " [0.09784448 0.86219152]\n",
      " [0.97291949 0.96083466]\n",
      " [0.9065555  0.77404733]\n",
      " [0.33314515 0.08110139]\n",
      " [0.40724117 0.23223414]\n",
      " [0.13248763 0.05342718]\n",
      " [0.72559436 0.01142746]\n",
      " [0.77058075 0.14694665]\n",
      " [0.07952208 0.08960303]\n",
      " [0.67204781 0.24536721]\n",
      " [0.42053947 0.55736879]\n",
      " [0.86055117 0.72704426]\n",
      " [0.27032791 0.1314828 ]\n",
      " [0.05537432 0.30159863]\n",
      " [0.26211815 0.45614057]\n",
      " [0.68328134 0.69562545]\n",
      " [0.28351885 0.37992696]\n",
      " [0.18115096 0.78854551]\n",
      " [0.05684808 0.69699724]\n",
      " [0.7786954  0.77740756]\n",
      " [0.25942256 0.37381314]\n",
      " [0.58759964 0.2728219 ]\n",
      " [0.3708528  0.19705428]\n",
      " [0.45985588 0.0446123 ]\n",
      " [0.79979588 0.07695645]\n",
      " [0.51883515 0.3068101 ]\n",
      " [0.57754295 0.95943334]\n",
      " [0.64557024 0.03536244]\n",
      " [0.43040244 0.51001685]\n",
      " [0.53617749 0.68139251]\n",
      " [0.2775961  0.12886057]\n",
      " [0.39267568 0.95640572]\n",
      " [0.18713089 0.90398395]\n",
      " [0.54380595 0.45691142]\n",
      " [0.88204141 0.45860396]\n",
      " [0.72416764 0.39902532]\n",
      " [0.90404439 0.69002502]\n",
      " [0.69962205 0.3277204 ]\n",
      " [0.75677864 0.63606106]\n",
      " [0.24002027 0.16053882]\n",
      " [0.79639147 0.9591666 ]\n",
      " [0.45813883 0.59098417]\n",
      " [0.85772264 0.45722345]\n",
      " [0.95187448 0.57575116]\n",
      " [0.82076712 0.90884372]\n",
      " [0.81552382 0.15941446]\n",
      " [0.62889844 0.39843426]\n",
      " [0.06271295 0.42403225]\n",
      " [0.25868407 0.84903831]\n",
      " [0.03330463 0.95898272]\n",
      " [0.35536885 0.35670689]\n",
      " [0.0163285  0.18523233]]\n",
      "____________\n",
      "[1 1 1 1 1 1 1 0 0 1 1 1 0 1 0 1 1 0 1 1 0 0 1 0 0 1 1 0 0 0 0 0 0 0 0 1 1\n",
      " 0 0 0 0 0 0 0 1 0 0 0 0 0 0 1 0 1 1 1 0 1 1 1 1 1 1 0 0 1 0 1 1 1 1 1 1 1\n",
      " 1 1 0 0 1 0 1 1 1 0 0 0 0 1 1 0 0 0 1 1 1 0 1 1 0 0 1 0 0 1 1 1 0 0 0 1 1\n",
      " 1 1 0 1 0 0 0 0 0 0 0 1 0 0 1 1 0 1 1 0 0 1 0 0 1 1 1 1 1 1 0 0 1 1 0 1 0\n",
      " 0 1 1 0 0 0 0 0 0 0 0 1 0 0 0 1 0 0 0 1 0 0 0 0 0 0 1 0 0 1 0 1 1 1 1 1 1\n",
      " 1 1 0 1 1 1 1 1 0 1 0 1 0 0 0]\n"
     ]
    }
   ],
   "source": [
    "import numpy as np\n",
    "import pandas as pd\n",
    "import warnings\n",
    "\n",
    "warnings.filterwarnings('ignore')\n",
    "\n",
    "# Generating synthetic data\n",
    "np.random.seed(0)\n",
    "data_size = 200\n",
    "features = np.random.rand(data_size, 2)  # Two features: visit duration and pages visited\n",
    "labels = (features[:, 0] + features[:, 1] > 1).astype(int)   # Purchase (1) or not (0)\n",
    "\n",
    "print(features)\n",
    "print(\"____________\")\n",
    "print(labels)\n",
    "\n"
   ]
  },
  {
   "cell_type": "code",
   "execution_count": 48,
   "id": "a3b1f2cd-599c-480b-8052-52ead96fedb7",
   "metadata": {},
   "outputs": [
    {
     "name": "stdout",
     "output_type": "stream",
     "text": [
      "     VisitDuration  PagesVisited  Purchase\n",
      "0         0.548814      0.715189         1\n",
      "1         0.602763      0.544883         1\n",
      "2         0.423655      0.645894         1\n",
      "3         0.437587      0.891773         1\n",
      "4         0.963663      0.383442         1\n",
      "..             ...           ...       ...\n",
      "195       0.062713      0.424032         0\n",
      "196       0.258684      0.849038         1\n",
      "197       0.033305      0.958983         0\n",
      "198       0.355369      0.356707         0\n",
      "199       0.016329      0.185232         0\n",
      "\n",
      "[200 rows x 3 columns]\n"
     ]
    }
   ],
   "source": [
    "# Convert to DataFrame for easier manipulation\n",
    "df = pd.DataFrame(features, columns=['VisitDuration', 'PagesVisited'])\n",
    "df['Purchase'] = labels # Adding a new data coloum in Data frame ....\n",
    "\n",
    "print(df)"
   ]
  },
  {
   "cell_type": "markdown",
   "id": "0f0d3726-92c0-476b-a90d-61174dafb74b",
   "metadata": {},
   "source": [
    "# Step 2: Preprocess the Data"
   ]
  },
  {
   "cell_type": "code",
   "execution_count": 51,
   "id": "af75943b-8acf-4ca9-bc7e-aa1d25fa2c88",
   "metadata": {},
   "outputs": [],
   "source": [
    "from sklearn.model_selection import train_test_split\n",
    "\n",
    "# Split the data\n",
    "X_train, X_test, y_train, y_test = train_test_split(df[['VisitDuration', 'PagesVisited']], df['Purchase'], test_size=0.2, random_state=42)"
   ]
  },
  {
   "cell_type": "code",
   "execution_count": 53,
   "id": "52192a12-6c08-4e8f-8d92-7e4765142e2b",
   "metadata": {},
   "outputs": [],
   "source": [
    "# Step 3: Build and Train the Neural Network"
   ]
  },
  {
   "cell_type": "code",
   "execution_count": 55,
   "id": "bfb69a8b-2246-4e68-a3d2-093ca5e0e19a",
   "metadata": {},
   "outputs": [],
   "source": [
    "import tensorflow as tf\n",
    "from tensorflow.keras.models import Sequential\n",
    "from tensorflow.keras.layers import Dense\n",
    "\n",
    "# Define the model\n",
    "model = Sequential([\n",
    "    Dense(10, activation='relu', input_shape=(2,)),  # Input layer with 2 features\n",
    "    Dense(1, activation='sigmoid')  # Output layer with sigmoid activation for binary classification\n",
    "])\n",
    "\n"
   ]
  },
  {
   "attachments": {},
   "cell_type": "markdown",
   "id": "5f04fe3f-1076-405d-aef1-c2a1f4b58604",
   "metadata": {},
   "source": [
    "\n",
    "- #### Sequential([...]) → Build layers in a straight sequence. Way to build a neural network layer by layer, in order.\n",
    "\n",
    "- #### Dense() → fully connected layer. It means every neuron is connected to every neuron in the next layer.\n",
    "\n",
    "- #### Dense(1, activation='sigmoid') → Output layer for binary classification\n",
    "\n",
    "## layer 1 := Dense(10, activation='relu', input_shape=(2,))   Hidden Layer\n",
    "  #### ✅ Dense Layer:\n",
    " - Fully connected layer with 10 neurons.\n",
    "#### ✅ activation='relu':\n",
    "- Uses the ReLU activation function:\n",
    "   ###  ReLU(x)=max(0,x)\n",
    "- Helps model non-linear relationships.\n",
    "#### ✅ input_shape=(2,):\n",
    "- Input has 2 features (e.g., [x1, x2]).\n",
    "- This tells Keras: \"Each sample you get will be a vector of length 2.\"\n",
    "\n",
    "\n",
    "## layer 2 : =  Dense(1, activation='sigmoid')       Output layer \n",
    " #### ✅ Dense Layer:\n",
    "- Fully connected output layer with 1 neuron.\n",
    "\n",
    "#### ✅ activation='sigmoid':\n",
    "- The sigmoid function squashes the output between 0 and 1:\n",
    "\n",
    "\n"
   ]
  },
  {
   "cell_type": "code",
   "execution_count": 58,
   "id": "75801b5d-2c5e-49fb-be40-58007c2ae3e6",
   "metadata": {},
   "outputs": [],
   "source": [
    "# Compile the model\n",
    "model.compile(optimizer='adam', loss='binary_crossentropy', metrics=['accuracy'])\n",
    "\n"
   ]
  },
  {
   "attachments": {
    "056c8bbb-f143-44be-ac2c-8c1af368423b.png": {
     "image/png": "[encoded data removed]"
    },
    "d3adfdbc-3e82-44ed-b2d4-225f89cc87fd.png": {
     "image/png": "[encoded data removed]"
    }
   },
   "cell_type": "markdown",
   "id": "db83750a-c643-4f59-8ce6-d1641e69b8cd",
   "metadata": {},
   "source": [
    "## 🔧 model.compile(...) — What does it do?\n",
    "It configures the model for training by setting:\n",
    "- #### Optimizer: How the model learns\n",
    "- #### Loss function: What the model tries to minimize\n",
    "- #### Metrics: What to track during training/testing (like accuracy)\n",
    "\n",
    "\n",
    "\n",
    "### 1. optimizer='adam'\n",
    "- stands for |  Adaptive Moment Estimation | .\n",
    "- It's an optimizer used in training neural networks.\n",
    "-  An optimizer updates the weights of the model during training to minimize the loss function.\n",
    "-  Adam combines the benefits of  :  Momentum (which remembers the direction of gradients),   \n",
    "RMSProp (which adapts learning rates)\n",
    "So it's:\n",
    "Fast,\n",
    "Efficient,\n",
    "Works well out of the box (default settings are usually good).\n",
    "- It adjusts learning rate for each weight individually, using:\n",
    "The mean of past gradients (1st moment) , \n",
    "The uncentered variance (2nd moment)\n",
    "\n",
    "\n",
    "###  2. loss='binary_crossentropy'\n",
    "This is the loss function used for binary classification problems (e.g., predicting 0 or 1).\n",
    "\n",
    "🔍 Formula:\n",
    "![image.png](attachment:056c8bbb-f143-44be-ac2c-8c1af368423b.png)\n",
    "Where:\n",
    "y = actual label (0 or 1)\n",
    "p = predicted probability (from sigmoid output)\n",
    "📌 Goal: Minimize this loss to improve predictions.\n",
    "\n",
    "![image.png](attachment:d3adfdbc-3e82-44ed-b2d4-225f89cc87fd.png)\n",
    "\n",
    "\n",
    "### 3. metrics=['accuracy']\n",
    "- Tells Keras to track accuracy during training and validation.\n",
    "- Keras is a high-level deep learning API built on top of low-level frameworks .\n",
    "- Keras makes it easy to build, train, and evaluate neural networks — without writing complex code.\n",
    "- 📌 Accuracy = % of correctly predicted labels"
   ]
  },
  {
   "cell_type": "code",
   "execution_count": 77,
   "id": "bcdaa3b5-4e4c-4fb5-8f60-242ca51f2a71",
   "metadata": {},
   "outputs": [
    {
     "name": "stdout",
     "output_type": "stream",
     "text": [
      "(160, 2) (160,)\n",
      "Epoch 1/10\n",
      "\u001b[1m32/32\u001b[0m \u001b[32m━━━━━━━━━━━━━━━━━━━━\u001b[0m\u001b[37m\u001b[0m \u001b[1m0s\u001b[0m 3ms/step - accuracy: 0.9710 - loss: 0.1806\n",
      "Epoch 2/10\n",
      "\u001b[1m32/32\u001b[0m \u001b[32m━━━━━━━━━━━━━━━━━━━━\u001b[0m\u001b[37m\u001b[0m \u001b[1m0s\u001b[0m 3ms/step - accuracy: 0.9642 - loss: 0.1793\n",
      "Epoch 3/10\n",
      "\u001b[1m32/32\u001b[0m \u001b[32m━━━━━━━━━━━━━━━━━━━━\u001b[0m\u001b[37m\u001b[0m \u001b[1m0s\u001b[0m 3ms/step - accuracy: 0.9762 - loss: 0.1899\n",
      "Epoch 4/10\n",
      "\u001b[1m32/32\u001b[0m \u001b[32m━━━━━━━━━━━━━━━━━━━━\u001b[0m\u001b[37m\u001b[0m \u001b[1m0s\u001b[0m 3ms/step - accuracy: 0.9533 - loss: 0.1774\n",
      "Epoch 5/10\n",
      "\u001b[1m32/32\u001b[0m \u001b[32m━━━━━━━━━━━━━━━━━━━━\u001b[0m\u001b[37m\u001b[0m \u001b[1m0s\u001b[0m 3ms/step - accuracy: 0.9671 - loss: 0.1868\n",
      "Epoch 6/10\n",
      "\u001b[1m32/32\u001b[0m \u001b[32m━━━━━━━━━━━━━━━━━━━━\u001b[0m\u001b[37m\u001b[0m \u001b[1m0s\u001b[0m 3ms/step - accuracy: 0.9636 - loss: 0.1884\n",
      "Epoch 7/10\n",
      "\u001b[1m32/32\u001b[0m \u001b[32m━━━━━━━━━━━━━━━━━━━━\u001b[0m\u001b[37m\u001b[0m \u001b[1m0s\u001b[0m 3ms/step - accuracy: 0.9399 - loss: 0.2240\n",
      "Epoch 8/10\n",
      "\u001b[1m32/32\u001b[0m \u001b[32m━━━━━━━━━━━━━━━━━━━━\u001b[0m\u001b[37m\u001b[0m \u001b[1m0s\u001b[0m 3ms/step - accuracy: 0.9733 - loss: 0.1604\n",
      "Epoch 9/10\n",
      "\u001b[1m32/32\u001b[0m \u001b[32m━━━━━━━━━━━━━━━━━━━━\u001b[0m\u001b[37m\u001b[0m \u001b[1m0s\u001b[0m 3ms/step - accuracy: 0.9500 - loss: 0.1947\n",
      "Epoch 10/10\n",
      "\u001b[1m32/32\u001b[0m \u001b[32m━━━━━━━━━━━━━━━━━━━━\u001b[0m\u001b[37m\u001b[0m \u001b[1m0s\u001b[0m 3ms/step - accuracy: 0.9677 - loss: 0.2073\n"
     ]
    },
    {
     "data": {
      "text/plain": [
       "<keras.src.callbacks.history.History at 0x1e7173d4fb0>"
      ]
     },
     "execution_count": 77,
     "metadata": {},
     "output_type": "execute_result"
    }
   ],
   "source": [
    "# Train the model\n",
    "print(X_train.shape, y_train.shape)\n",
    "model.fit(X_train, y_train, epochs=10, batch_size=5)"
   ]
  },
  {
   "cell_type": "markdown",
   "id": "c0b02ee1-0aac-496e-8c2a-b93d2d57568f",
   "metadata": {},
   "source": [
    "### 🧠 What is an epoch?\n",
    "- One epoch = one complete pass through the entire training dataset.\n",
    "- If you have 100 training samples, then in 1 epoch, the model sees all 100 once.\n",
    "\n",
    "### 🧠 What is batch size?\n",
    "- It defines how many samples the model looks at before updating the weights."
   ]
  },
  {
   "cell_type": "code",
   "execution_count": 17,
   "id": "336e2e1d-3842-48ab-ab9c-3891c1ef4474",
   "metadata": {},
   "outputs": [
    {
     "name": "stdout",
     "output_type": "stream",
     "text": [
      "2.19.0\n"
     ]
    }
   ],
   "source": [
    "\n",
    "print(tf.__version__)"
   ]
  },
  {
   "cell_type": "markdown",
   "id": "bc5af64e-494d-4370-bda2-d684cbe3370a",
   "metadata": {},
   "source": [
    "# Step 4: Evaluate the Model"
   ]
  },
  {
   "cell_type": "code",
   "execution_count": 83,
   "id": "1412fb8d-22e5-4222-affe-1469cc19de4a",
   "metadata": {},
   "outputs": [
    {
     "name": "stdout",
     "output_type": "stream",
     "text": [
      "\u001b[1m2/2\u001b[0m \u001b[32m━━━━━━━━━━━━━━━━━━━━\u001b[0m\u001b[37m\u001b[0m \u001b[1m0s\u001b[0m 22ms/step - accuracy: 0.8917 - loss: 0.2291\n",
      "Test Accuracy: 0.8999999761581421\n",
      "Test Loss: 0.2204223871231079\n"
     ]
    }
   ],
   "source": [
    "# Evaluate the model on the test set\n",
    "loss, accuracy = model.evaluate(X_test, y_test)\n",
    "print(f\"Test Accuracy: {accuracy}\")\n",
    "print(f\"Test Loss: {loss}\")"
   ]
  },
  {
   "cell_type": "markdown",
   "id": "500c5108-0228-4825-a31e-b1ca214f0a43",
   "metadata": {},
   "source": [
    " ## This exercise introduces you to the basics of building and training a simple neural network with synthetic data. The model predicts customer purchase behavior, a typical business problem, using a fast and straightforward neural network architecture."
   ]
  },
  {
   "cell_type": "markdown",
   "id": "5b13bdc8-f109-4dc4-87b2-e46736044955",
   "metadata": {},
   "source": [
    "### Now i am predicting with my new data ..."
   ]
  },
  {
   "cell_type": "code",
   "execution_count": 111,
   "id": "25665cc2-0fbc-4f8b-b1fa-d4f5bf6db952",
   "metadata": {},
   "outputs": [],
   "source": [
    "nfeatures = np.array([[0.234523 , 0.789374],\n",
    "            [0.786755 , 0.367682]])\n",
    "\n"
   ]
  },
  {
   "cell_type": "code",
   "execution_count": 113,
   "id": "5448cfc0-fe44-4717-928d-ac7e3381acee",
   "metadata": {},
   "outputs": [
    {
     "name": "stdout",
     "output_type": "stream",
     "text": [
      "\u001b[1m1/1\u001b[0m \u001b[32m━━━━━━━━━━━━━━━━━━━━\u001b[0m\u001b[37m\u001b[0m \u001b[1m0s\u001b[0m 71ms/step\n",
      "Raw Predictions (probabilities): [[0.65615165]\n",
      " [0.7437922 ]]\n"
     ]
    }
   ],
   "source": [
    "predictions = model.predict(nfeatures)\n",
    "print(\"Raw Predictions (probabilities):\", predictions)"
   ]
  },
  {
   "cell_type": "code",
   "execution_count": 115,
   "id": "51f15b1b-3ec6-4a0a-9172-48dfbb23a565",
   "metadata": {},
   "outputs": [
    {
     "name": "stdout",
     "output_type": "stream",
     "text": [
      "Predicted Classes: [[1]\n",
      " [1]]\n"
     ]
    }
   ],
   "source": [
    "predicted_classes = (predictions > 0.5).astype(int)\n",
    "print(\"Predicted Classes:\", predicted_classes)"
   ]
  },
  {
   "cell_type": "code",
   "execution_count": null,
   "id": "194d6e23-34bc-4269-9e9d-0ec725d7f0af",
   "metadata": {},
   "outputs": [],
   "source": []
  }
 ],
 "metadata": {
  "kernelspec": {
   "display_name": "Python 3 (ipykernel)",
   "language": "python",
   "name": "python3"
  },
  "language_info": {
   "codemirror_mode": {
    "name": "ipython",
    "version": 3
   },
   "file_extension": ".py",
   "mimetype": "text/x-python",
   "name": "python",
   "nbconvert_exporter": "python",
   "pygments_lexer": "ipython3",
   "version": "3.12.7"
  }
 },
 "nbformat": 4,
 "nbformat_minor": 5
}
